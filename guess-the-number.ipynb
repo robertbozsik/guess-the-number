{
 "cells": [
  {
   "cell_type": "markdown",
   "metadata": {},
   "source": [
    "# Guess the Number Python Game"
   ]
  },
  {
   "cell_type": "markdown",
   "metadata": {},
   "source": [
    "### Based on\n",
    "https://www.funbrain.com/games/guess-the-number"
   ]
  },
  {
   "cell_type": "markdown",
   "metadata": {},
   "source": [
    "### Module imports and function definitions"
   ]
  },
  {
   "cell_type": "code",
   "execution_count": 1,
   "metadata": {},
   "outputs": [],
   "source": [
    "import random\n",
    "import time\n",
    "\n",
    "def instructions():\n",
    "    print(\n",
    "    \"\"\"\n",
    "    Instructions:\n",
    "    \n",
    "    Your Computer will pick a secret number between 1 and 10.\n",
    "    You guess what number it is.\n",
    "    If your guess is too high or too low, the Computer will give you a hint.\n",
    "    See how many turns it takes you to win!\n",
    "    \"\"\"\n",
    "    )\n",
    "\n",
    "def random_number():\n",
    "    return random.randint(1, 10)\n",
    "\n",
    "def game():\n",
    "    play_again = 'y'\n",
    "    \n",
    "    while play_again == 'y':\n",
    "        comp_num = random_number()\n",
    "        \n",
    "        print()\n",
    "        print('The Computer figured out the number between 1 and 10. What is your guess?')\n",
    "        \n",
    "        player_guess = ''\n",
    "        counter = 0\n",
    "    \n",
    "        while player_guess != comp_num:\n",
    "            player_guess = int(input('My guess: '))\n",
    "            counter += 1\n",
    "\n",
    "            if player_guess < comp_num:\n",
    "                time.sleep(0.5)\n",
    "                print()\n",
    "                print('Your guess is too low. What is your next guess?')\n",
    "            elif player_guess > comp_num:\n",
    "                time.sleep(0.5)\n",
    "                print()\n",
    "                print('Your guess is too high. What is your next guess?')\n",
    "            else:\n",
    "                time.sleep(0.5)\n",
    "                print()\n",
    "                print(f'Congratulations! It took you {counter} turn(s) to guess the number, which was {comp_num}')\n",
    "\n",
    "        play_again = input('Do you want to play again (Y/N)? ')"
   ]
  },
  {
   "cell_type": "markdown",
   "metadata": {},
   "source": [
    "### Game"
   ]
  },
  {
   "cell_type": "code",
   "execution_count": 2,
   "metadata": {},
   "outputs": [
    {
     "name": "stdout",
     "output_type": "stream",
     "text": [
      "Do you know how to play this game (Y/N)? n\n",
      "\n",
      "    Instructions:\n",
      "    \n",
      "    Your Computer will pick a secret number between 1 and 10.\n",
      "    You guess what number it is.\n",
      "    If your guess is too high or too low, the Computer will give you a hint.\n",
      "    See how many turns it takes you to win!\n",
      "    \n",
      "Press enter to continue\n",
      "\n",
      "\n",
      "The Computer figured out the number between 1 and 10. What is your guess?\n",
      "My guess: 5\n",
      "\n",
      "Your guess is too low. What is your next guess?\n",
      "My guess: 7\n",
      "\n",
      "Your guess is too low. What is your next guess?\n",
      "My guess: 9\n",
      "\n",
      "Your guess is too low. What is your next guess?\n",
      "My guess: 10\n",
      "\n",
      "Congratulations! It took you 4 turn(s) to guess the number, which was 10\n",
      "Do you want to play again (Y/N)? y\n",
      "\n",
      "The Computer figured out the number between 1 and 10. What is your guess?\n",
      "My guess: 5\n",
      "\n",
      "Your guess is too high. What is your next guess?\n",
      "My guess: 3\n",
      "\n",
      "Your guess is too high. What is your next guess?\n",
      "My guess: 2\n",
      "\n",
      "Congratulations! It took you 3 turn(s) to guess the number, which was 2\n",
      "Do you want to play again (Y/N)? n\n"
     ]
    }
   ],
   "source": [
    "how_to_play = input('Do you know how to play this game (Y/N)? ').lower()\n",
    "\n",
    "if how_to_play == 'n':\n",
    "    instructions()\n",
    "    input(\"Press enter to continue\")\n",
    "    print()\n",
    "\n",
    "game()"
   ]
  },
  {
   "cell_type": "code",
   "execution_count": null,
   "metadata": {},
   "outputs": [],
   "source": []
  }
 ],
 "metadata": {
  "kernelspec": {
   "display_name": "Python 3",
   "language": "python",
   "name": "python3"
  },
  "language_info": {
   "codemirror_mode": {
    "name": "ipython",
    "version": 3
   },
   "file_extension": ".py",
   "mimetype": "text/x-python",
   "name": "python",
   "nbconvert_exporter": "python",
   "pygments_lexer": "ipython3",
   "version": "3.8.3"
  }
 },
 "nbformat": 4,
 "nbformat_minor": 4
}
